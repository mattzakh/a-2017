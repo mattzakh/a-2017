{
 "cells": [
  {
   "cell_type": "markdown",
   "metadata": {},
   "source": [
    "# CS 109A/STAT 121A/AC 209A/CSCI E-109A  \n",
    "\n",
    "## Lab 2: Cleaning and EDA of Goodreads \n",
    "\n",
    "**Harvard University**<br>\n",
    "**Fall 2017**<br>\n",
    "**Instructors: Pavlos Protopapas, Kevin Rader, Rahul Dave, Margo Levine**\n",
    "\n",
    "---"
   ]
  },
  {
   "cell_type": "markdown",
   "metadata": {},
   "source": [
    "# Table of Contents \n",
    "<ol start=\"0\">\n",
    "<li> Learning Goals </li>\n",
    "<li> Loading and Cleaning with Pandas</li>\n",
    "<li> Asking Questions?  </li>\n",
    "<li> Parsing and Completing the Dataframe  </li>\n",
    "<li> EDA  </li>\n",
    "<li> Determining the Best Books  </li>\n",
    "<li>Trends in Popularity of Genres </li>\n",
    "</ol>"
   ]
  },
  {
   "cell_type": "markdown",
   "metadata": {},
   "source": [
    "## Learning Goals\n",
    "\n",
    "About 6000 odd \"best books\" were fetched and parsed from [Goodreads](https://www.goodreads.com). The \"bestness\" of these books came from a proprietary formula used by Goodreads and published as a list on their web site.\n",
    "\n",
    "We parsed the page for each book and saved data from all these pages in a tabular format as a CSV file. In this lab we'll clean and further parse the data.  We'll then do some exploratory data analysis to answer questions about these best books and popular genres.  \n",
    "\n",
    "\n",
    "By the end of this lab, you should be able to:\n",
    "\n",
    "- Load and systematically address missing values, ancoded as `NaN` values in our data set, for example, by removing observations associated with these values.\n",
    "- Parse columns in the dataframe to create new dataframe columns.\n",
    "- Create and interpret visualizations to explore the data set\n",
    "\n",
    "*This lab corresponds to lectures 2 and 3 and maps on to homework 1 and further.*"
   ]
  },
  {
   "cell_type": "markdown",
   "metadata": {},
   "source": [
    "### Basic EDA workflow\n",
    "\n",
    "(From the lecture, repeated here for convenience).\n",
    "\n",
    "The basic workflow is as follows:\n",
    "\n",
    "1. **Scrape**  data using beautiful soup and python request.\n",
    "2. **Build** a DataFrame from the data (ideally, put all data in this object)\n",
    "3. **Clean** the DataFrame. It should have the following properties:\n",
    "    - Each row describes a single object\n",
    "    - Each column describes a property of that object\n",
    "    - Columns are numeric whenever appropriate\n",
    "    - Columns contain atomic properties that cannot be further decomposed\n",
    "4. Explore **global properties**. Use histograms, scatter plots, and aggregation functions to summarize the data.\n",
    "5. Explore **group properties**. Use groupby and small multiples to compare subsets of the data.\n",
    "\n",
    "This process transforms your data into a format which is easier to work with, gives you a basic overview of the data's properties, and likely generates several questions for you to followup in subsequent analysis."
   ]
  },
  {
   "cell_type": "markdown",
   "metadata": {},
   "source": [
    "## Part 1: Loading and Cleaning with Pandas \n",
    "Read in the `goodreads.csv` file, examine the data, and do any necessary data cleaning. \n",
    "\n",
    "Here is a description of the columns (in order) present in this csv file:\n",
    "\n",
    "```\n",
    "rating: the average rating on a 1-5 scale achieved by the book\n",
    "review_count: the number of Goodreads users who reviewed this book\n",
    "isbn: the ISBN code for the book\n",
    "booktype: an internal Goodreads identifier for the book\n",
    "author_url: the Goodreads (relative) URL for the author of the book\n",
    "year: the year the book was published\n",
    "genre_urls: a string with '|' separated relative URLS of Goodreads genre pages\n",
    "dir: a directory identifier internal to the scraping code\n",
    "rating_count: the number of ratings for this book (this is different from the number of reviews)\n",
    "name: the name of the book\n",
    "```\n",
    "\n",
    "Report all the issues you found with the data and how you resolved them.  \n",
    "\n",
    "[15 minutes]\n",
    "\n",
    "----"
   ]
  },
  {
   "cell_type": "markdown",
   "metadata": {},
   "source": [
    "## Part 1: Solution "
   ]
  },
  {
   "cell_type": "markdown",
   "metadata": {},
   "source": [
    "Loading libraries"
   ]
  },
  {
   "cell_type": "code",
   "execution_count": 1,
   "metadata": {
    "collapsed": true
   },
   "outputs": [],
   "source": [
    "%matplotlib inline\n",
    "import numpy as np\n",
    "import matplotlib.pyplot as plt\n",
    "import pandas as pd\n",
    "import seaborn as sn\n",
    "pd.set_option('display.width', 500)\n",
    "pd.set_option('display.max_columns', 100)"
   ]
  },
  {
   "cell_type": "markdown",
   "metadata": {},
   "source": [
    "### Cleaning: Reading the data"
   ]
  },
  {
   "cell_type": "code",
   "execution_count": 2,
   "metadata": {},
   "outputs": [
    {
     "data": {
      "text/html": [
       "<div>\n",
       "<style>\n",
       "    .dataframe thead tr:only-child th {\n",
       "        text-align: right;\n",
       "    }\n",
       "\n",
       "    .dataframe thead th {\n",
       "        text-align: left;\n",
       "    }\n",
       "\n",
       "    .dataframe tbody tr th {\n",
       "        vertical-align: top;\n",
       "    }\n",
       "</style>\n",
       "<table border=\"1\" class=\"dataframe\">\n",
       "  <thead>\n",
       "    <tr style=\"text-align: right;\">\n",
       "      <th></th>\n",
       "      <th>4.40</th>\n",
       "      <th>136455</th>\n",
       "      <th>0439023483</th>\n",
       "      <th>good_reads:book</th>\n",
       "      <th>https://www.goodreads.com/author/show/153394.Suzanne_Collins</th>\n",
       "      <th>2008</th>\n",
       "      <th>/genres/young-adult|/genres/science-fiction|/genres/dystopia|/genres/fantasy|/genres/science-fiction|/genres/romance|/genres/adventure|/genres/book-club|/genres/young-adult|/genres/teen|/genres/apocalyptic|/genres/post-apocalyptic|/genres/action</th>\n",
       "      <th>dir01/2767052-the-hunger-games.html</th>\n",
       "      <th>2958974</th>\n",
       "      <th>The Hunger Games (The Hunger Games, #1)</th>\n",
       "    </tr>\n",
       "  </thead>\n",
       "  <tbody>\n",
       "    <tr>\n",
       "      <th>0</th>\n",
       "      <td>4.41</td>\n",
       "      <td>16648</td>\n",
       "      <td>0439358078</td>\n",
       "      <td>good_reads:book</td>\n",
       "      <td>https://www.goodreads.com/author/show/1077326....</td>\n",
       "      <td>2003.0</td>\n",
       "      <td>/genres/fantasy|/genres/young-adult|/genres/fi...</td>\n",
       "      <td>dir01/2.Harry_Potter_and_the_Order_of_the_Phoe...</td>\n",
       "      <td>1284478</td>\n",
       "      <td>Harry Potter and the Order of the Phoenix (Har...</td>\n",
       "    </tr>\n",
       "    <tr>\n",
       "      <th>1</th>\n",
       "      <td>3.56</td>\n",
       "      <td>85746</td>\n",
       "      <td>0316015849</td>\n",
       "      <td>good_reads:book</td>\n",
       "      <td>https://www.goodreads.com/author/show/941441.S...</td>\n",
       "      <td>2005.0</td>\n",
       "      <td>/genres/young-adult|/genres/fantasy|/genres/ro...</td>\n",
       "      <td>dir01/41865.Twilight.html</td>\n",
       "      <td>2579564</td>\n",
       "      <td>Twilight (Twilight, #1)</td>\n",
       "    </tr>\n",
       "    <tr>\n",
       "      <th>2</th>\n",
       "      <td>4.23</td>\n",
       "      <td>47906</td>\n",
       "      <td>0061120081</td>\n",
       "      <td>good_reads:book</td>\n",
       "      <td>https://www.goodreads.com/author/show/1825.Har...</td>\n",
       "      <td>1960.0</td>\n",
       "      <td>/genres/classics|/genres/fiction|/genres/histo...</td>\n",
       "      <td>dir01/2657.To_Kill_a_Mockingbird.html</td>\n",
       "      <td>2078123</td>\n",
       "      <td>To Kill a Mockingbird</td>\n",
       "    </tr>\n",
       "    <tr>\n",
       "      <th>3</th>\n",
       "      <td>4.23</td>\n",
       "      <td>34772</td>\n",
       "      <td>0679783261</td>\n",
       "      <td>good_reads:book</td>\n",
       "      <td>https://www.goodreads.com/author/show/1265.Jan...</td>\n",
       "      <td>1813.0</td>\n",
       "      <td>/genres/classics|/genres/fiction|/genres/roman...</td>\n",
       "      <td>dir01/1885.Pride_and_Prejudice.html</td>\n",
       "      <td>1388992</td>\n",
       "      <td>Pride and Prejudice</td>\n",
       "    </tr>\n",
       "    <tr>\n",
       "      <th>4</th>\n",
       "      <td>4.25</td>\n",
       "      <td>12363</td>\n",
       "      <td>0446675539</td>\n",
       "      <td>good_reads:book</td>\n",
       "      <td>https://www.goodreads.com/author/show/11081.Ma...</td>\n",
       "      <td>1936.0</td>\n",
       "      <td>/genres/classics|/genres/historical-fiction|/g...</td>\n",
       "      <td>dir01/18405.Gone_with_the_Wind.html</td>\n",
       "      <td>645470</td>\n",
       "      <td>Gone with the Wind</td>\n",
       "    </tr>\n",
       "  </tbody>\n",
       "</table>\n",
       "</div>"
      ],
      "text/plain": [
       "   4.40 136455  0439023483  good_reads:book https://www.goodreads.com/author/show/153394.Suzanne_Collins    2008 /genres/young-adult|/genres/science-fiction|/genres/dystopia|/genres/fantasy|/genres/science-fiction|/genres/romance|/genres/adventure|/genres/book-club|/genres/young-adult|/genres/teen|/genres/apocalyptic|/genres/post-apocalyptic|/genres/action                dir01/2767052-the-hunger-games.html  2958974            The Hunger Games (The Hunger Games, #1)\n",
       "0  4.41  16648  0439358078  good_reads:book  https://www.goodreads.com/author/show/1077326....            2003.0  /genres/fantasy|/genres/young-adult|/genres/fi...                                                                                                                                                                                                     dir01/2.Harry_Potter_and_the_Order_of_the_Phoe...  1284478  Harry Potter and the Order of the Phoenix (Har...\n",
       "1  3.56  85746  0316015849  good_reads:book  https://www.goodreads.com/author/show/941441.S...            2005.0  /genres/young-adult|/genres/fantasy|/genres/ro...                                                                                                                                                                                                                             dir01/41865.Twilight.html  2579564                            Twilight (Twilight, #1)\n",
       "2  4.23  47906  0061120081  good_reads:book  https://www.goodreads.com/author/show/1825.Har...            1960.0  /genres/classics|/genres/fiction|/genres/histo...                                                                                                                                                                                                                 dir01/2657.To_Kill_a_Mockingbird.html  2078123                              To Kill a Mockingbird\n",
       "3  4.23  34772  0679783261  good_reads:book  https://www.goodreads.com/author/show/1265.Jan...            1813.0  /genres/classics|/genres/fiction|/genres/roman...                                                                                                                                                                                                                   dir01/1885.Pride_and_Prejudice.html  1388992                                Pride and Prejudice\n",
       "4  4.25  12363  0446675539  good_reads:book  https://www.goodreads.com/author/show/11081.Ma...            1936.0  /genres/classics|/genres/historical-fiction|/g...                                                                                                                                                                                                                   dir01/18405.Gone_with_the_Wind.html   645470                                 Gone with the Wind"
      ]
     },
     "execution_count": 2,
     "metadata": {},
     "output_type": "execute_result"
    }
   ],
   "source": [
    "#Read the data into dataframe\n",
    "df = pd.read_csv(\"data/goodreads.csv\")\n",
    "\n",
    "#Examine\n",
    "df.head()"
   ]
  },
  {
   "cell_type": "code",
   "execution_count": 3,
   "metadata": {},
   "outputs": [
    {
     "data": {
      "text/html": [
       "<div>\n",
       "<style>\n",
       "    .dataframe thead tr:only-child th {\n",
       "        text-align: right;\n",
       "    }\n",
       "\n",
       "    .dataframe thead th {\n",
       "        text-align: left;\n",
       "    }\n",
       "\n",
       "    .dataframe tbody tr th {\n",
       "        vertical-align: top;\n",
       "    }\n",
       "</style>\n",
       "<table border=\"1\" class=\"dataframe\">\n",
       "  <thead>\n",
       "    <tr style=\"text-align: right;\">\n",
       "      <th></th>\n",
       "      <th>rating</th>\n",
       "      <th>review_count</th>\n",
       "      <th>isbn</th>\n",
       "      <th>booktype</th>\n",
       "      <th>author_url</th>\n",
       "      <th>year</th>\n",
       "      <th>genre_urls</th>\n",
       "      <th>dir</th>\n",
       "      <th>rating_count</th>\n",
       "      <th>name</th>\n",
       "    </tr>\n",
       "  </thead>\n",
       "  <tbody>\n",
       "    <tr>\n",
       "      <th>0</th>\n",
       "      <td>4.40</td>\n",
       "      <td>136455</td>\n",
       "      <td>0439023483</td>\n",
       "      <td>good_reads:book</td>\n",
       "      <td>https://www.goodreads.com/author/show/153394.S...</td>\n",
       "      <td>2008.0</td>\n",
       "      <td>/genres/young-adult|/genres/science-fiction|/g...</td>\n",
       "      <td>dir01/2767052-the-hunger-games.html</td>\n",
       "      <td>2958974</td>\n",
       "      <td>The Hunger Games (The Hunger Games, #1)</td>\n",
       "    </tr>\n",
       "    <tr>\n",
       "      <th>1</th>\n",
       "      <td>4.41</td>\n",
       "      <td>16648</td>\n",
       "      <td>0439358078</td>\n",
       "      <td>good_reads:book</td>\n",
       "      <td>https://www.goodreads.com/author/show/1077326....</td>\n",
       "      <td>2003.0</td>\n",
       "      <td>/genres/fantasy|/genres/young-adult|/genres/fi...</td>\n",
       "      <td>dir01/2.Harry_Potter_and_the_Order_of_the_Phoe...</td>\n",
       "      <td>1284478</td>\n",
       "      <td>Harry Potter and the Order of the Phoenix (Har...</td>\n",
       "    </tr>\n",
       "    <tr>\n",
       "      <th>2</th>\n",
       "      <td>3.56</td>\n",
       "      <td>85746</td>\n",
       "      <td>0316015849</td>\n",
       "      <td>good_reads:book</td>\n",
       "      <td>https://www.goodreads.com/author/show/941441.S...</td>\n",
       "      <td>2005.0</td>\n",
       "      <td>/genres/young-adult|/genres/fantasy|/genres/ro...</td>\n",
       "      <td>dir01/41865.Twilight.html</td>\n",
       "      <td>2579564</td>\n",
       "      <td>Twilight (Twilight, #1)</td>\n",
       "    </tr>\n",
       "    <tr>\n",
       "      <th>3</th>\n",
       "      <td>4.23</td>\n",
       "      <td>47906</td>\n",
       "      <td>0061120081</td>\n",
       "      <td>good_reads:book</td>\n",
       "      <td>https://www.goodreads.com/author/show/1825.Har...</td>\n",
       "      <td>1960.0</td>\n",
       "      <td>/genres/classics|/genres/fiction|/genres/histo...</td>\n",
       "      <td>dir01/2657.To_Kill_a_Mockingbird.html</td>\n",
       "      <td>2078123</td>\n",
       "      <td>To Kill a Mockingbird</td>\n",
       "    </tr>\n",
       "    <tr>\n",
       "      <th>4</th>\n",
       "      <td>4.23</td>\n",
       "      <td>34772</td>\n",
       "      <td>0679783261</td>\n",
       "      <td>good_reads:book</td>\n",
       "      <td>https://www.goodreads.com/author/show/1265.Jan...</td>\n",
       "      <td>1813.0</td>\n",
       "      <td>/genres/classics|/genres/fiction|/genres/roman...</td>\n",
       "      <td>dir01/1885.Pride_and_Prejudice.html</td>\n",
       "      <td>1388992</td>\n",
       "      <td>Pride and Prejudice</td>\n",
       "    </tr>\n",
       "  </tbody>\n",
       "</table>\n",
       "</div>"
      ],
      "text/plain": [
       "   rating review_count        isbn         booktype                                         author_url    year                                         genre_urls                                                dir rating_count                                               name\n",
       "0    4.40       136455  0439023483  good_reads:book  https://www.goodreads.com/author/show/153394.S...  2008.0  /genres/young-adult|/genres/science-fiction|/g...                dir01/2767052-the-hunger-games.html      2958974            The Hunger Games (The Hunger Games, #1)\n",
       "1    4.41        16648  0439358078  good_reads:book  https://www.goodreads.com/author/show/1077326....  2003.0  /genres/fantasy|/genres/young-adult|/genres/fi...  dir01/2.Harry_Potter_and_the_Order_of_the_Phoe...      1284478  Harry Potter and the Order of the Phoenix (Har...\n",
       "2    3.56        85746  0316015849  good_reads:book  https://www.goodreads.com/author/show/941441.S...  2005.0  /genres/young-adult|/genres/fantasy|/genres/ro...                          dir01/41865.Twilight.html      2579564                            Twilight (Twilight, #1)\n",
       "3    4.23        47906  0061120081  good_reads:book  https://www.goodreads.com/author/show/1825.Har...  1960.0  /genres/classics|/genres/fiction|/genres/histo...              dir01/2657.To_Kill_a_Mockingbird.html      2078123                              To Kill a Mockingbird\n",
       "4    4.23        34772  0679783261  good_reads:book  https://www.goodreads.com/author/show/1265.Jan...  1813.0  /genres/classics|/genres/fiction|/genres/roman...                dir01/1885.Pride_and_Prejudice.html      1388992                                Pride and Prejudice"
      ]
     },
     "execution_count": 3,
     "metadata": {},
     "output_type": "execute_result"
    }
   ],
   "source": [
    "#Read and specify header\n",
    "df = pd.read_csv(\"data/goodreads.csv\", header=None,\n",
    "                 names=[\"rating\", 'review_count', 'isbn', 'booktype','author_url', 'year', 'genre_urls', 'dir','rating_count', 'name'],\n",
    ")\n",
    "\n",
    "df.head()"
   ]
  },
  {
   "cell_type": "markdown",
   "metadata": {},
   "source": [
    "### Cleaning: Examine the dataframe - quick checks"
   ]
  },
  {
   "cell_type": "code",
   "execution_count": 4,
   "metadata": {},
   "outputs": [
    {
     "data": {
      "text/plain": [
       "rating          float64\n",
       "review_count     object\n",
       "isbn             object\n",
       "booktype         object\n",
       "author_url       object\n",
       "year            float64\n",
       "genre_urls       object\n",
       "dir              object\n",
       "rating_count     object\n",
       "name             object\n",
       "dtype: object"
      ]
     },
     "execution_count": 4,
     "metadata": {},
     "output_type": "execute_result"
    }
   ],
   "source": [
    "#Types\n",
    "df.dtypes"
   ]
  },
  {
   "cell_type": "code",
   "execution_count": 5,
   "metadata": {},
   "outputs": [
    {
     "name": "stdout",
     "output_type": "stream",
     "text": [
      "(6000, 10)\n"
     ]
    },
    {
     "data": {
      "text/plain": [
       "Index(['rating', 'review_count', 'isbn', 'booktype', 'author_url', 'year', 'genre_urls', 'dir', 'rating_count', 'name'], dtype='object')"
      ]
     },
     "execution_count": 5,
     "metadata": {},
     "output_type": "execute_result"
    }
   ],
   "source": [
    "print(df.shape)\n",
    "df.columns"
   ]
  },
  {
   "cell_type": "markdown",
   "metadata": {},
   "source": [
    "### Cleaning: Examinine the dataframe - a deeper looks"
   ]
  },
  {
   "cell_type": "code",
   "execution_count": 7,
   "metadata": {},
   "outputs": [
    {
     "data": {
      "text/html": [
       "<div>\n",
       "<style>\n",
       "    .dataframe thead tr:only-child th {\n",
       "        text-align: right;\n",
       "    }\n",
       "\n",
       "    .dataframe thead th {\n",
       "        text-align: left;\n",
       "    }\n",
       "\n",
       "    .dataframe tbody tr th {\n",
       "        vertical-align: top;\n",
       "    }\n",
       "</style>\n",
       "<table border=\"1\" class=\"dataframe\">\n",
       "  <thead>\n",
       "    <tr style=\"text-align: right;\">\n",
       "      <th></th>\n",
       "      <th>rating</th>\n",
       "      <th>review_count</th>\n",
       "      <th>isbn</th>\n",
       "      <th>booktype</th>\n",
       "      <th>author_url</th>\n",
       "      <th>year</th>\n",
       "      <th>genre_urls</th>\n",
       "      <th>dir</th>\n",
       "      <th>rating_count</th>\n",
       "      <th>name</th>\n",
       "    </tr>\n",
       "  </thead>\n",
       "  <tbody>\n",
       "    <tr>\n",
       "      <th>3643</th>\n",
       "      <td>NaN</td>\n",
       "      <td>None</td>\n",
       "      <td>None</td>\n",
       "      <td>None</td>\n",
       "      <td>None</td>\n",
       "      <td>NaN</td>\n",
       "      <td>NaN</td>\n",
       "      <td>dir37/9658936-harry-potter.html</td>\n",
       "      <td>None</td>\n",
       "      <td>None</td>\n",
       "    </tr>\n",
       "    <tr>\n",
       "      <th>5282</th>\n",
       "      <td>NaN</td>\n",
       "      <td>None</td>\n",
       "      <td>None</td>\n",
       "      <td>None</td>\n",
       "      <td>None</td>\n",
       "      <td>NaN</td>\n",
       "      <td>NaN</td>\n",
       "      <td>dir53/113138.The_Winner.html</td>\n",
       "      <td>None</td>\n",
       "      <td>None</td>\n",
       "    </tr>\n",
       "  </tbody>\n",
       "</table>\n",
       "</div>"
      ],
      "text/plain": [
       "      rating review_count  isbn booktype author_url  year genre_urls                              dir rating_count  name\n",
       "3643     NaN         None  None     None       None   NaN        NaN  dir37/9658936-harry-potter.html         None  None\n",
       "5282     NaN         None  None     None       None   NaN        NaN     dir53/113138.The_Winner.html         None  None"
      ]
     },
     "execution_count": 7,
     "metadata": {},
     "output_type": "execute_result"
    }
   ],
   "source": [
    "# missing values in rating\n",
    "df[df.rating.isnull()]"
   ]
  },
  {
   "cell_type": "code",
   "execution_count": 8,
   "metadata": {},
   "outputs": [
    {
     "data": {
      "text/html": [
       "<div>\n",
       "<style>\n",
       "    .dataframe thead tr:only-child th {\n",
       "        text-align: right;\n",
       "    }\n",
       "\n",
       "    .dataframe thead th {\n",
       "        text-align: left;\n",
       "    }\n",
       "\n",
       "    .dataframe tbody tr th {\n",
       "        vertical-align: top;\n",
       "    }\n",
       "</style>\n",
       "<table border=\"1\" class=\"dataframe\">\n",
       "  <thead>\n",
       "    <tr style=\"text-align: right;\">\n",
       "      <th></th>\n",
       "      <th>rating</th>\n",
       "      <th>review_count</th>\n",
       "      <th>isbn</th>\n",
       "      <th>booktype</th>\n",
       "      <th>author_url</th>\n",
       "      <th>year</th>\n",
       "      <th>genre_urls</th>\n",
       "      <th>dir</th>\n",
       "      <th>rating_count</th>\n",
       "      <th>name</th>\n",
       "    </tr>\n",
       "  </thead>\n",
       "  <tbody>\n",
       "    <tr>\n",
       "      <th>2442</th>\n",
       "      <td>4.23</td>\n",
       "      <td>526</td>\n",
       "      <td>NaN</td>\n",
       "      <td>good_reads:book</td>\n",
       "      <td>https://www.goodreads.com/author/show/623606.A...</td>\n",
       "      <td>NaN</td>\n",
       "      <td>/genres/religion|/genres/islam|/genres/non-fic...</td>\n",
       "      <td>dir25/1301625.La_Tahzan.html</td>\n",
       "      <td>4134</td>\n",
       "      <td>La Tahzan</td>\n",
       "    </tr>\n",
       "    <tr>\n",
       "      <th>2869</th>\n",
       "      <td>4.61</td>\n",
       "      <td>2</td>\n",
       "      <td>NaN</td>\n",
       "      <td>good_reads:book</td>\n",
       "      <td>https://www.goodreads.com/author/show/8182217....</td>\n",
       "      <td>NaN</td>\n",
       "      <td>NaN</td>\n",
       "      <td>dir29/22031070-my-death-experiences---a-preach...</td>\n",
       "      <td>23</td>\n",
       "      <td>My Death Experiences - A Preacherâs 18 Apoca...</td>\n",
       "    </tr>\n",
       "    <tr>\n",
       "      <th>3643</th>\n",
       "      <td>NaN</td>\n",
       "      <td>None</td>\n",
       "      <td>None</td>\n",
       "      <td>None</td>\n",
       "      <td>None</td>\n",
       "      <td>NaN</td>\n",
       "      <td>NaN</td>\n",
       "      <td>dir37/9658936-harry-potter.html</td>\n",
       "      <td>None</td>\n",
       "      <td>None</td>\n",
       "    </tr>\n",
       "    <tr>\n",
       "      <th>5282</th>\n",
       "      <td>NaN</td>\n",
       "      <td>None</td>\n",
       "      <td>None</td>\n",
       "      <td>None</td>\n",
       "      <td>None</td>\n",
       "      <td>NaN</td>\n",
       "      <td>NaN</td>\n",
       "      <td>dir53/113138.The_Winner.html</td>\n",
       "      <td>None</td>\n",
       "      <td>None</td>\n",
       "    </tr>\n",
       "    <tr>\n",
       "      <th>5572</th>\n",
       "      <td>3.71</td>\n",
       "      <td>35</td>\n",
       "      <td>8423336603</td>\n",
       "      <td>good_reads:book</td>\n",
       "      <td>https://www.goodreads.com/author/show/285658.E...</td>\n",
       "      <td>NaN</td>\n",
       "      <td>/genres/fiction</td>\n",
       "      <td>dir56/890680._rase_una_vez_el_amor_pero_tuve_q...</td>\n",
       "      <td>403</td>\n",
       "      <td>Ãrase una vez el amor pero tuve que matarlo. ...</td>\n",
       "    </tr>\n",
       "    <tr>\n",
       "      <th>5658</th>\n",
       "      <td>4.32</td>\n",
       "      <td>44</td>\n",
       "      <td>NaN</td>\n",
       "      <td>good_reads:book</td>\n",
       "      <td>https://www.goodreads.com/author/show/25307.Ro...</td>\n",
       "      <td>NaN</td>\n",
       "      <td>/genres/fantasy|/genres/fantasy|/genres/epic-f...</td>\n",
       "      <td>dir57/5533041-assassin-s-apprentice-royal-assa...</td>\n",
       "      <td>3850</td>\n",
       "      <td>Assassin's Apprentice / Royal Assassin (Farsee...</td>\n",
       "    </tr>\n",
       "    <tr>\n",
       "      <th>5683</th>\n",
       "      <td>4.56</td>\n",
       "      <td>204</td>\n",
       "      <td>NaN</td>\n",
       "      <td>good_reads:book</td>\n",
       "      <td>https://www.goodreads.com/author/show/3097905....</td>\n",
       "      <td>NaN</td>\n",
       "      <td>/genres/fantasy|/genres/young-adult|/genres/ro...</td>\n",
       "      <td>dir57/12474623-tiger-s-dream.html</td>\n",
       "      <td>895</td>\n",
       "      <td>Tiger's Dream (The Tiger Saga, #5)</td>\n",
       "    </tr>\n",
       "  </tbody>\n",
       "</table>\n",
       "</div>"
      ],
      "text/plain": [
       "      rating review_count        isbn         booktype                                         author_url  year                                         genre_urls                                                dir rating_count                                               name\n",
       "2442    4.23          526         NaN  good_reads:book  https://www.goodreads.com/author/show/623606.A...   NaN  /genres/religion|/genres/islam|/genres/non-fic...                       dir25/1301625.La_Tahzan.html         4134                                          La Tahzan\n",
       "2869    4.61            2         NaN  good_reads:book  https://www.goodreads.com/author/show/8182217....   NaN                                                NaN  dir29/22031070-my-death-experiences---a-preach...           23  My Death Experiences - A Preacherâs 18 Apoca...\n",
       "3643     NaN         None        None             None                                               None   NaN                                                NaN                    dir37/9658936-harry-potter.html         None                                               None\n",
       "5282     NaN         None        None             None                                               None   NaN                                                NaN                       dir53/113138.The_Winner.html         None                                               None\n",
       "5572    3.71           35  8423336603  good_reads:book  https://www.goodreads.com/author/show/285658.E...   NaN                                    /genres/fiction  dir56/890680._rase_una_vez_el_amor_pero_tuve_q...          403  Ãrase una vez el amor pero tuve que matarlo. ...\n",
       "5658    4.32           44         NaN  good_reads:book  https://www.goodreads.com/author/show/25307.Ro...   NaN  /genres/fantasy|/genres/fantasy|/genres/epic-f...  dir57/5533041-assassin-s-apprentice-royal-assa...         3850  Assassin's Apprentice / Royal Assassin (Farsee...\n",
       "5683    4.56          204         NaN  good_reads:book  https://www.goodreads.com/author/show/3097905....   NaN  /genres/fantasy|/genres/young-adult|/genres/ro...                  dir57/12474623-tiger-s-dream.html          895                 Tiger's Dream (The Tiger Saga, #5)"
      ]
     },
     "execution_count": 8,
     "metadata": {},
     "output_type": "execute_result"
    }
   ],
   "source": [
    "# missing values in year\n",
    "df[df.year.isnull()]"
   ]
  },
  {
   "cell_type": "markdown",
   "metadata": {},
   "source": [
    "### Cleaning: Dealing with Missing Values"
   ]
  },
  {
   "cell_type": "code",
   "execution_count": 9,
   "metadata": {
    "collapsed": true
   },
   "outputs": [],
   "source": [
    "# remove those with missing year\n",
    "df = df[df.year.notnull()]"
   ]
  },
  {
   "cell_type": "code",
   "execution_count": 10,
   "metadata": {},
   "outputs": [
    {
     "data": {
      "text/plain": [
       "rating          float64\n",
       "review_count     object\n",
       "isbn             object\n",
       "booktype         object\n",
       "author_url       object\n",
       "year            float64\n",
       "genre_urls       object\n",
       "dir              object\n",
       "rating_count     object\n",
       "name             object\n",
       "dtype: object"
      ]
     },
     "execution_count": 10,
     "metadata": {},
     "output_type": "execute_result"
    }
   ],
   "source": [
    "df.dtypes"
   ]
  },
  {
   "cell_type": "code",
   "execution_count": 13,
   "metadata": {},
   "outputs": [
    {
     "name": "stdout",
     "output_type": "stream",
     "text": [
      "0\n",
      "0\n",
      "0\n"
     ]
    },
    {
     "data": {
      "text/plain": [
       "(5993, 10)"
      ]
     },
     "execution_count": 13,
     "metadata": {},
     "output_type": "execute_result"
    }
   ],
   "source": [
    "print(np.sum(df.year.isnull()))\n",
    "print(np.sum(df.rating_count.isnull()))\n",
    "print(np.sum(df.review_count.isnull()))\n",
    "df.shape"
   ]
  },
  {
   "cell_type": "code",
   "execution_count": 14,
   "metadata": {
    "collapsed": true
   },
   "outputs": [],
   "source": [
    "# fix rating_count and review_count\n",
    "df.rating_count = df.rating_count.astype(int)\n",
    "df.review_count = df.review_count.astype(int)\n",
    "df.year = df.year.astype(int)"
   ]
  },
  {
   "cell_type": "code",
   "execution_count": 15,
   "metadata": {},
   "outputs": [
    {
     "data": {
      "text/plain": [
       "rating          float64\n",
       "review_count      int64\n",
       "isbn             object\n",
       "booktype         object\n",
       "author_url       object\n",
       "year              int64\n",
       "genre_urls       object\n",
       "dir              object\n",
       "rating_count      int64\n",
       "name             object\n",
       "dtype: object"
      ]
     },
     "execution_count": 15,
     "metadata": {},
     "output_type": "execute_result"
    }
   ],
   "source": [
    "df.dtypes"
   ]
  },
  {
   "cell_type": "code",
   "execution_count": 16,
   "metadata": {
    "collapsed": true
   },
   "outputs": [],
   "source": [
    "# some columns that should be string have NaN\n",
    "df.loc[df.genre_urls.isnull(), 'genre_urls'] = \"\"\n",
    "df.loc[df.isbn.isnull(), 'isbn'] = \"\""
   ]
  },
  {
   "cell_type": "markdown",
   "metadata": {},
   "source": [
    "##   Part 2: Asking Questions \n",
    "Think of few questions we want to ask and then examine the data and decide if the dataframe contains what you need to address these questions. \n",
    "\n",
    "[5 min]\n",
    "\n",
    "---"
   ]
  },
  {
   "cell_type": "markdown",
   "metadata": {},
   "source": [
    "##  Part 3: Parsing and Completing the Data Frame \n",
    "\n",
    "We will need author and genre to proceed! Parse the `author` column from the author_url and `genres` column from the genre_urls. Keep the `genres` column as a string separated by '|'.\n",
    "\n",
    "Hint: Use panda's `map` to assign new columns to the dataframe.  \n",
    "\n",
    "[10 minutes]\n",
    "\n",
    "---"
   ]
  },
  {
   "cell_type": "code",
   "execution_count": 34,
   "metadata": {},
   "outputs": [
    {
     "data": {
      "text/plain": [
       "'https://www.goodreads.com/author/show/153394.Suzanne_Collins'"
      ]
     },
     "execution_count": 34,
     "metadata": {},
     "output_type": "execute_result"
    }
   ],
   "source": [
    "# test with first author_url\n",
    "test_string = df.author_url[0]\n",
    "test_string"
   ]
  },
  {
   "cell_type": "code",
   "execution_count": 39,
   "metadata": {},
   "outputs": [
    {
     "data": {
      "text/plain": [
       "'Suzanne_Collins'"
      ]
     },
     "execution_count": 39,
     "metadata": {},
     "output_type": "execute_result"
    }
   ],
   "source": [
    "# split out some string operations to isolate the author name\n",
    "test_string.split('/')[-1].split('.')[1]"
   ]
  },
  {
   "cell_type": "code",
   "execution_count": 43,
   "metadata": {},
   "outputs": [
    {
     "data": {
      "text/plain": [
       "0    Suzanne_Collins\n",
       "1        J_K_Rowling\n",
       "2    Stephenie_Meyer\n",
       "3         Harper_Lee\n",
       "4        Jane_Austen\n",
       "Name: author_url, dtype: object"
      ]
     },
     "execution_count": 43,
     "metadata": {},
     "output_type": "execute_result"
    }
   ],
   "source": [
    "# function that accepts an author url and return the author's name\n",
    "def get_author(url):\n",
    "    \n",
    "    name = url.split('/')[-1].split('.')[1]\n",
    "    return name\n",
    "\n",
    "# apply get_author to the author_url column using map\n",
    "# store in author column\n",
    "df.author = df.author_url.map(get_author)\n",
    "df.author[:5]"
   ]
  },
  {
   "cell_type": "code",
   "execution_count": 45,
   "metadata": {},
   "outputs": [
    {
     "data": {
      "text/plain": [
       "'/genres/young-adult|/genres/science-fiction|/genres/dystopia|/genres/fantasy|/genres/science-fiction|/genres/romance|/genres/adventure|/genres/book-club|/genres/young-adult|/genres/teen|/genres/apocalyptic|/genres/post-apocalyptic|/genres/action'"
      ]
     },
     "execution_count": 45,
     "metadata": {},
     "output_type": "execute_result"
    }
   ],
   "source": [
    "# test with first genre_url\n",
    "test_genre_string = df.genre_urls[0]\n",
    "test_genre_string"
   ]
  },
  {
   "cell_type": "code",
   "execution_count": 56,
   "metadata": {},
   "outputs": [
    {
     "name": "stdout",
     "output_type": "stream",
     "text": [
      "young-adult\n",
      "science-fiction\n",
      "dystopia\n",
      "fantasy\n",
      "science-fiction\n",
      "romance\n",
      "adventure\n",
      "book-club\n",
      "young-adult\n",
      "teen\n",
      "apocalyptic\n",
      "post-apocalyptic\n",
      "action\n"
     ]
    }
   ],
   "source": [
    "# split\n",
    "genres = test_genre_string.strip().split('|')\n",
    "for g in genres:\n",
    "    print(g.split('/')[-1])\n",
    "    \"|\".join(genres)"
   ]
  },
  {
   "cell_type": "code",
   "execution_count": 63,
   "metadata": {},
   "outputs": [
    {
     "data": {
      "text/plain": [
       "0    young-adult|science-fiction|dystopia|fantasy|s...\n",
       "1    fantasy|young-adult|fiction|fantasy|magic|chil...\n",
       "2    young-adult|fantasy|romance|paranormal|vampire...\n",
       "3    classics|fiction|historical-fiction|academic|s...\n",
       "4    classics|fiction|romance|historical-fiction|li...\n",
       "Name: genres, dtype: object"
      ]
     },
     "execution_count": 63,
     "metadata": {},
     "output_type": "execute_result"
    }
   ],
   "source": [
    "# function that accepts a genre url and returns the genre\n",
    "def split_and_join_genres(url):\n",
    "    genres = url.strip().split('|')\n",
    "    genres = [g.split('/')[-1] for g in genres]\n",
    "    return \"|\".join(genres)\n",
    "\n",
    "df['genres'] = df.genre_urls.map(split_and_join_genres)\n",
    "df.genres.head()"
   ]
  },
  {
   "cell_type": "code",
   "execution_count": 71,
   "metadata": {},
   "outputs": [
    {
     "data": {
      "text/html": [
       "<div>\n",
       "<style>\n",
       "    .dataframe thead tr:only-child th {\n",
       "        text-align: right;\n",
       "    }\n",
       "\n",
       "    .dataframe thead th {\n",
       "        text-align: left;\n",
       "    }\n",
       "\n",
       "    .dataframe tbody tr th {\n",
       "        vertical-align: top;\n",
       "    }\n",
       "</style>\n",
       "<table border=\"1\" class=\"dataframe\">\n",
       "  <thead>\n",
       "    <tr style=\"text-align: right;\">\n",
       "      <th></th>\n",
       "      <th>rating</th>\n",
       "      <th>review_count</th>\n",
       "      <th>isbn</th>\n",
       "      <th>booktype</th>\n",
       "      <th>author_url</th>\n",
       "      <th>year</th>\n",
       "      <th>genre_urls</th>\n",
       "      <th>dir</th>\n",
       "      <th>rating_count</th>\n",
       "      <th>name</th>\n",
       "      <th>genres</th>\n",
       "    </tr>\n",
       "  </thead>\n",
       "  <tbody>\n",
       "    <tr>\n",
       "      <th>79</th>\n",
       "      <td>4.18</td>\n",
       "      <td>31846</td>\n",
       "      <td>0786838655</td>\n",
       "      <td>good_reads:book</td>\n",
       "      <td>https://www.goodreads.com/author/show/15872.Ri...</td>\n",
       "      <td>2005</td>\n",
       "      <td>/genres/fantasy|/genres/young-adult|/genres/fa...</td>\n",
       "      <td>dir01/28187.The_Lightning_Thief.html</td>\n",
       "      <td>806465</td>\n",
       "      <td>The Lightning Thief (Percy Jackson and the Oly...</td>\n",
       "      <td>fantasy|young-adult|fantasy|mythology|fiction|...</td>\n",
       "    </tr>\n",
       "    <tr>\n",
       "      <th>160</th>\n",
       "      <td>4.47</td>\n",
       "      <td>11678</td>\n",
       "      <td>0739380338</td>\n",
       "      <td>good_reads:book</td>\n",
       "      <td>https://www.goodreads.com/author/show/15872.Ri...</td>\n",
       "      <td>2009</td>\n",
       "      <td>/genres/fantasy|/genres/young-adult|/genres/fa...</td>\n",
       "      <td>dir02/4502507-the-last-olympian.html</td>\n",
       "      <td>317734</td>\n",
       "      <td>The Last Olympian (Percy Jackson and the Olymp...</td>\n",
       "      <td>fantasy|young-adult|fantasy|mythology|fiction|...</td>\n",
       "    </tr>\n",
       "    <tr>\n",
       "      <th>188</th>\n",
       "      <td>4.36</td>\n",
       "      <td>8996</td>\n",
       "      <td>1423101464</td>\n",
       "      <td>good_reads:book</td>\n",
       "      <td>https://www.goodreads.com/author/show/15872.Ri...</td>\n",
       "      <td>2008</td>\n",
       "      <td>/genres/young-adult|/genres/fantasy|/genres/my...</td>\n",
       "      <td>dir02/2120932.The_Battle_of_the_Labyrinth.html</td>\n",
       "      <td>360183</td>\n",
       "      <td>The Battle of the Labyrinth (Percy Jackson and...</td>\n",
       "      <td>young-adult|fantasy|mythology|fiction|adventur...</td>\n",
       "    </tr>\n",
       "    <tr>\n",
       "      <th>193</th>\n",
       "      <td>4.20</td>\n",
       "      <td>13257</td>\n",
       "      <td>0786856866</td>\n",
       "      <td>good_reads:book</td>\n",
       "      <td>https://www.goodreads.com/author/show/15872.Ri...</td>\n",
       "      <td>2006</td>\n",
       "      <td>/genres/young-adult|/genres/fantasy|/genres/fi...</td>\n",
       "      <td>dir02/28186.The_Sea_of_Monsters.html</td>\n",
       "      <td>350206</td>\n",
       "      <td>The Sea of Monsters (Percy Jackson and the Oly...</td>\n",
       "      <td>young-adult|fantasy|fiction|fantasy|mythology|...</td>\n",
       "    </tr>\n",
       "    <tr>\n",
       "      <th>204</th>\n",
       "      <td>4.30</td>\n",
       "      <td>9761</td>\n",
       "      <td>0141382899</td>\n",
       "      <td>good_reads:book</td>\n",
       "      <td>https://www.goodreads.com/author/show/15872.Ri...</td>\n",
       "      <td>2007</td>\n",
       "      <td>/genres/fiction|/genres/childrens|/genres/myth...</td>\n",
       "      <td>dir03/561456.The_Titan_s_Curse.html</td>\n",
       "      <td>272457</td>\n",
       "      <td>The Titan's Curse (Percy Jackson and the Olymp...</td>\n",
       "      <td>fiction|childrens|mythology|greek-mythology|fa...</td>\n",
       "    </tr>\n",
       "    <tr>\n",
       "      <th>260</th>\n",
       "      <td>4.35</td>\n",
       "      <td>11228</td>\n",
       "      <td>142311339X</td>\n",
       "      <td>good_reads:book</td>\n",
       "      <td>https://www.goodreads.com/author/show/15872.Ri...</td>\n",
       "      <td>2010</td>\n",
       "      <td>/genres/fantasy|/genres/young-adult|/genres/fa...</td>\n",
       "      <td>dir03/7736182-the-lost-hero.html</td>\n",
       "      <td>281762</td>\n",
       "      <td>The Lost Hero (The Heroes of Olympus, #1)</td>\n",
       "      <td>fantasy|young-adult|fantasy|mythology|adventur...</td>\n",
       "    </tr>\n",
       "    <tr>\n",
       "      <th>344</th>\n",
       "      <td>4.45</td>\n",
       "      <td>8173</td>\n",
       "      <td>1423140591</td>\n",
       "      <td>good_reads:book</td>\n",
       "      <td>https://www.goodreads.com/author/show/15872.Ri...</td>\n",
       "      <td>2011</td>\n",
       "      <td>/genres/fantasy|/genres/young-adult|/genres/fa...</td>\n",
       "      <td>dir04/9520360-the-son-of-neptune.html</td>\n",
       "      <td>199991</td>\n",
       "      <td>The Son of Neptune (The Heroes of Olympus, #2)</td>\n",
       "      <td>fantasy|young-adult|fantasy|mythology|adventur...</td>\n",
       "    </tr>\n",
       "    <tr>\n",
       "      <th>400</th>\n",
       "      <td>4.53</td>\n",
       "      <td>9292</td>\n",
       "      <td>1423140605</td>\n",
       "      <td>good_reads:book</td>\n",
       "      <td>https://www.goodreads.com/author/show/15872.Ri...</td>\n",
       "      <td>2012</td>\n",
       "      <td>/genres/fantasy|/genres/young-adult|/genres/fa...</td>\n",
       "      <td>dir05/12127750-the-mark-of-athena.html</td>\n",
       "      <td>128412</td>\n",
       "      <td>The Mark of Athena (The Heroes of Olympus, #3)</td>\n",
       "      <td>fantasy|young-adult|fantasy|mythology|adventur...</td>\n",
       "    </tr>\n",
       "    <tr>\n",
       "      <th>534</th>\n",
       "      <td>4.03</td>\n",
       "      <td>8095</td>\n",
       "      <td>1423113381</td>\n",
       "      <td>good_reads:book</td>\n",
       "      <td>https://www.goodreads.com/author/show/15872.Ri...</td>\n",
       "      <td>2010</td>\n",
       "      <td>/genres/fantasy|/genres/young-adult|/genres/fa...</td>\n",
       "      <td>dir06/7090447-the-red-pyramid.html</td>\n",
       "      <td>163686</td>\n",
       "      <td>The Red Pyramid (Kane Chronicles, #1)</td>\n",
       "      <td>fantasy|young-adult|fantasy|mythology|adventur...</td>\n",
       "    </tr>\n",
       "    <tr>\n",
       "      <th>620</th>\n",
       "      <td>4.54</td>\n",
       "      <td>7767</td>\n",
       "      <td>1423146727</td>\n",
       "      <td>good_reads:book</td>\n",
       "      <td>https://www.goodreads.com/author/show/15872.Ri...</td>\n",
       "      <td>2013</td>\n",
       "      <td>/genres/fantasy|/genres/young-adult|/genres/fa...</td>\n",
       "      <td>dir07/12127810-the-house-of-hades.html</td>\n",
       "      <td>72082</td>\n",
       "      <td>The House of Hades (The Heroes of Olympus, #4)</td>\n",
       "      <td>fantasy|young-adult|fantasy|mythology|adventur...</td>\n",
       "    </tr>\n",
       "    <tr>\n",
       "      <th>840</th>\n",
       "      <td>4.57</td>\n",
       "      <td>431</td>\n",
       "      <td>1423113497</td>\n",
       "      <td>good_reads:book</td>\n",
       "      <td>https://www.goodreads.com/author/show/15872.Ri...</td>\n",
       "      <td>2008</td>\n",
       "      <td>/genres/fantasy|/genres/young-adult|/genres/fa...</td>\n",
       "      <td>dir09/3165162-percy-jackson-and-the-olympians-...</td>\n",
       "      <td>22937</td>\n",
       "      <td>Percy Jackson and the Olympians Boxed Set (Per...</td>\n",
       "      <td>fantasy|young-adult|fantasy|mythology|fiction|...</td>\n",
       "    </tr>\n",
       "    <tr>\n",
       "      <th>877</th>\n",
       "      <td>4.21</td>\n",
       "      <td>3525</td>\n",
       "      <td>1423140567</td>\n",
       "      <td>good_reads:book</td>\n",
       "      <td>https://www.goodreads.com/author/show/15872.Ri...</td>\n",
       "      <td>2011</td>\n",
       "      <td>/genres/fantasy|/genres/fantasy|/genres/mythol...</td>\n",
       "      <td>dir09/9067850-the-throne-of-fire.html</td>\n",
       "      <td>79741</td>\n",
       "      <td>The Throne of Fire (Kane Chronicles, #2)</td>\n",
       "      <td>fantasy|fantasy|mythology|young-adult|adventur...</td>\n",
       "    </tr>\n",
       "    <tr>\n",
       "      <th>1043</th>\n",
       "      <td>4.28</td>\n",
       "      <td>3007</td>\n",
       "      <td>1423140575</td>\n",
       "      <td>good_reads:book</td>\n",
       "      <td>https://www.goodreads.com/author/show/15872.Ri...</td>\n",
       "      <td>2012</td>\n",
       "      <td>/genres/fantasy|/genres/fantasy|/genres/mythol...</td>\n",
       "      <td>dir11/12893742-the-serpent-s-shadow.html</td>\n",
       "      <td>50860</td>\n",
       "      <td>The Serpent's Shadow (Kane Chronicles, #3)</td>\n",
       "      <td>fantasy|fantasy|mythology|young-adult|adventur...</td>\n",
       "    </tr>\n",
       "    <tr>\n",
       "      <th>1132</th>\n",
       "      <td>3.99</td>\n",
       "      <td>1392</td>\n",
       "      <td>142312166X</td>\n",
       "      <td>good_reads:book</td>\n",
       "      <td>https://www.goodreads.com/author/show/15872.Ri...</td>\n",
       "      <td>2009</td>\n",
       "      <td>/genres/fantasy|/genres/fantasy|/genres/mythol...</td>\n",
       "      <td>dir12/3992598-the-demigod-files.html</td>\n",
       "      <td>35095</td>\n",
       "      <td>The Demigod Files</td>\n",
       "      <td>fantasy|fantasy|mythology|young-adult|fiction|...</td>\n",
       "    </tr>\n",
       "    <tr>\n",
       "      <th>1890</th>\n",
       "      <td>3.79</td>\n",
       "      <td>3381</td>\n",
       "      <td>0545060397</td>\n",
       "      <td>good_reads:book</td>\n",
       "      <td>https://www.goodreads.com/author/show/15872.Ri...</td>\n",
       "      <td>2008</td>\n",
       "      <td>/genres/mystery|/genres/adventure|/genres/youn...</td>\n",
       "      <td>dir19/2921082-the-maze-of-bones.html</td>\n",
       "      <td>42730</td>\n",
       "      <td>The Maze of Bones (The 39 Clues, #1)</td>\n",
       "      <td>mystery|adventure|young-adult|fiction|children...</td>\n",
       "    </tr>\n",
       "    <tr>\n",
       "      <th>2113</th>\n",
       "      <td>4.22</td>\n",
       "      <td>903</td>\n",
       "      <td>1423163001</td>\n",
       "      <td>good_reads:book</td>\n",
       "      <td>https://www.goodreads.com/author/show/15872.Ri...</td>\n",
       "      <td>2012</td>\n",
       "      <td>/genres/fantasy|/genres/fantasy|/genres/mythol...</td>\n",
       "      <td>dir22/12959086-the-demigod-diaries.html</td>\n",
       "      <td>16160</td>\n",
       "      <td>The Demigod Diaries</td>\n",
       "      <td>fantasy|fantasy|mythology|young-adult|adventur...</td>\n",
       "    </tr>\n",
       "    <tr>\n",
       "      <th>2408</th>\n",
       "      <td>4.61</td>\n",
       "      <td>2133</td>\n",
       "      <td>1423146735</td>\n",
       "      <td>good_reads:book</td>\n",
       "      <td>https://www.goodreads.com/author/show/15872.Ri...</td>\n",
       "      <td>2014</td>\n",
       "      <td>/genres/fantasy|/genres/fantasy|/genres/mythol...</td>\n",
       "      <td>dir25/18705209-the-blood-of-olympus.html</td>\n",
       "      <td>10640</td>\n",
       "      <td>The Blood of Olympus (The Heroes of Olympus, #5)</td>\n",
       "      <td>fantasy|fantasy|mythology|young-adult|adventur...</td>\n",
       "    </tr>\n",
       "    <tr>\n",
       "      <th>2847</th>\n",
       "      <td>4.26</td>\n",
       "      <td>184</td>\n",
       "      <td>0955944686</td>\n",
       "      <td>good_reads:book</td>\n",
       "      <td>https://www.goodreads.com/author/show/15872.Ri...</td>\n",
       "      <td>2009</td>\n",
       "      <td>/genres/fantasy|/genres/fantasy|/genres/mythol...</td>\n",
       "      <td>dir29/4837112-percy-jackson-and-the-sword-of-h...</td>\n",
       "      <td>7449</td>\n",
       "      <td>Percy Jackson and the Sword of Hades (Percy Ja...</td>\n",
       "      <td>fantasy|fantasy|mythology|young-adult|adventur...</td>\n",
       "    </tr>\n",
       "    <tr>\n",
       "      <th>4730</th>\n",
       "      <td>4.56</td>\n",
       "      <td>622</td>\n",
       "      <td>1423119509</td>\n",
       "      <td>good_reads:book</td>\n",
       "      <td>https://www.goodreads.com/author/show/15872.Ri...</td>\n",
       "      <td>2009</td>\n",
       "      <td>/genres/fantasy|/genres/young-adult|/genres/fa...</td>\n",
       "      <td>dir48/6443349-percy-jackson-and-the-olympians-...</td>\n",
       "      <td>13793</td>\n",
       "      <td>Percy Jackson and the Olympians Boxed Set (Per...</td>\n",
       "      <td>fantasy|young-adult|fantasy|mythology|fiction|...</td>\n",
       "    </tr>\n",
       "    <tr>\n",
       "      <th>4854</th>\n",
       "      <td>3.93</td>\n",
       "      <td>110</td>\n",
       "      <td>0979233143</td>\n",
       "      <td>good_reads:book</td>\n",
       "      <td>https://www.goodreads.com/author/show/15872.Ri...</td>\n",
       "      <td>2008</td>\n",
       "      <td>/genres/fantasy|/genres/mythology|/genres/fant...</td>\n",
       "      <td>dir49/3303559-demigods-and-monsters.html</td>\n",
       "      <td>2154</td>\n",
       "      <td>Demigods and Monsters</td>\n",
       "      <td>fantasy|mythology|fantasy|young-adult|mytholog...</td>\n",
       "    </tr>\n",
       "    <tr>\n",
       "      <th>5824</th>\n",
       "      <td>4.35</td>\n",
       "      <td>914</td>\n",
       "      <td>1423194551</td>\n",
       "      <td>good_reads:book</td>\n",
       "      <td>https://www.goodreads.com/author/show/15872.Ri...</td>\n",
       "      <td>2013</td>\n",
       "      <td>/genres/fantasy|/genres/fantasy|/genres/mythol...</td>\n",
       "      <td>dir59/17312201-the-son-of-sobek.html</td>\n",
       "      <td>9971</td>\n",
       "      <td>The Son of Sobek (Percy Jackson &amp; Kane Chronic...</td>\n",
       "      <td>fantasy|fantasy|mythology|young-adult|short-st...</td>\n",
       "    </tr>\n",
       "  </tbody>\n",
       "</table>\n",
       "</div>"
      ],
      "text/plain": [
       "      rating  review_count        isbn         booktype                                         author_url  year                                         genre_urls                                                dir  rating_count                                               name                                             genres\n",
       "79      4.18         31846  0786838655  good_reads:book  https://www.goodreads.com/author/show/15872.Ri...  2005  /genres/fantasy|/genres/young-adult|/genres/fa...               dir01/28187.The_Lightning_Thief.html        806465  The Lightning Thief (Percy Jackson and the Oly...  fantasy|young-adult|fantasy|mythology|fiction|...\n",
       "160     4.47         11678  0739380338  good_reads:book  https://www.goodreads.com/author/show/15872.Ri...  2009  /genres/fantasy|/genres/young-adult|/genres/fa...               dir02/4502507-the-last-olympian.html        317734  The Last Olympian (Percy Jackson and the Olymp...  fantasy|young-adult|fantasy|mythology|fiction|...\n",
       "188     4.36          8996  1423101464  good_reads:book  https://www.goodreads.com/author/show/15872.Ri...  2008  /genres/young-adult|/genres/fantasy|/genres/my...     dir02/2120932.The_Battle_of_the_Labyrinth.html        360183  The Battle of the Labyrinth (Percy Jackson and...  young-adult|fantasy|mythology|fiction|adventur...\n",
       "193     4.20         13257  0786856866  good_reads:book  https://www.goodreads.com/author/show/15872.Ri...  2006  /genres/young-adult|/genres/fantasy|/genres/fi...               dir02/28186.The_Sea_of_Monsters.html        350206  The Sea of Monsters (Percy Jackson and the Oly...  young-adult|fantasy|fiction|fantasy|mythology|...\n",
       "204     4.30          9761  0141382899  good_reads:book  https://www.goodreads.com/author/show/15872.Ri...  2007  /genres/fiction|/genres/childrens|/genres/myth...                dir03/561456.The_Titan_s_Curse.html        272457  The Titan's Curse (Percy Jackson and the Olymp...  fiction|childrens|mythology|greek-mythology|fa...\n",
       "260     4.35         11228  142311339X  good_reads:book  https://www.goodreads.com/author/show/15872.Ri...  2010  /genres/fantasy|/genres/young-adult|/genres/fa...                   dir03/7736182-the-lost-hero.html        281762          The Lost Hero (The Heroes of Olympus, #1)  fantasy|young-adult|fantasy|mythology|adventur...\n",
       "344     4.45          8173  1423140591  good_reads:book  https://www.goodreads.com/author/show/15872.Ri...  2011  /genres/fantasy|/genres/young-adult|/genres/fa...              dir04/9520360-the-son-of-neptune.html        199991     The Son of Neptune (The Heroes of Olympus, #2)  fantasy|young-adult|fantasy|mythology|adventur...\n",
       "400     4.53          9292  1423140605  good_reads:book  https://www.goodreads.com/author/show/15872.Ri...  2012  /genres/fantasy|/genres/young-adult|/genres/fa...             dir05/12127750-the-mark-of-athena.html        128412     The Mark of Athena (The Heroes of Olympus, #3)  fantasy|young-adult|fantasy|mythology|adventur...\n",
       "534     4.03          8095  1423113381  good_reads:book  https://www.goodreads.com/author/show/15872.Ri...  2010  /genres/fantasy|/genres/young-adult|/genres/fa...                 dir06/7090447-the-red-pyramid.html        163686              The Red Pyramid (Kane Chronicles, #1)  fantasy|young-adult|fantasy|mythology|adventur...\n",
       "620     4.54          7767  1423146727  good_reads:book  https://www.goodreads.com/author/show/15872.Ri...  2013  /genres/fantasy|/genres/young-adult|/genres/fa...             dir07/12127810-the-house-of-hades.html         72082     The House of Hades (The Heroes of Olympus, #4)  fantasy|young-adult|fantasy|mythology|adventur...\n",
       "840     4.57           431  1423113497  good_reads:book  https://www.goodreads.com/author/show/15872.Ri...  2008  /genres/fantasy|/genres/young-adult|/genres/fa...  dir09/3165162-percy-jackson-and-the-olympians-...         22937  Percy Jackson and the Olympians Boxed Set (Per...  fantasy|young-adult|fantasy|mythology|fiction|...\n",
       "877     4.21          3525  1423140567  good_reads:book  https://www.goodreads.com/author/show/15872.Ri...  2011  /genres/fantasy|/genres/fantasy|/genres/mythol...              dir09/9067850-the-throne-of-fire.html         79741           The Throne of Fire (Kane Chronicles, #2)  fantasy|fantasy|mythology|young-adult|adventur...\n",
       "1043    4.28          3007  1423140575  good_reads:book  https://www.goodreads.com/author/show/15872.Ri...  2012  /genres/fantasy|/genres/fantasy|/genres/mythol...           dir11/12893742-the-serpent-s-shadow.html         50860         The Serpent's Shadow (Kane Chronicles, #3)  fantasy|fantasy|mythology|young-adult|adventur...\n",
       "1132    3.99          1392  142312166X  good_reads:book  https://www.goodreads.com/author/show/15872.Ri...  2009  /genres/fantasy|/genres/fantasy|/genres/mythol...               dir12/3992598-the-demigod-files.html         35095                                  The Demigod Files  fantasy|fantasy|mythology|young-adult|fiction|...\n",
       "1890    3.79          3381  0545060397  good_reads:book  https://www.goodreads.com/author/show/15872.Ri...  2008  /genres/mystery|/genres/adventure|/genres/youn...               dir19/2921082-the-maze-of-bones.html         42730               The Maze of Bones (The 39 Clues, #1)  mystery|adventure|young-adult|fiction|children...\n",
       "2113    4.22           903  1423163001  good_reads:book  https://www.goodreads.com/author/show/15872.Ri...  2012  /genres/fantasy|/genres/fantasy|/genres/mythol...            dir22/12959086-the-demigod-diaries.html         16160                                The Demigod Diaries  fantasy|fantasy|mythology|young-adult|adventur...\n",
       "2408    4.61          2133  1423146735  good_reads:book  https://www.goodreads.com/author/show/15872.Ri...  2014  /genres/fantasy|/genres/fantasy|/genres/mythol...           dir25/18705209-the-blood-of-olympus.html         10640   The Blood of Olympus (The Heroes of Olympus, #5)  fantasy|fantasy|mythology|young-adult|adventur...\n",
       "2847    4.26           184  0955944686  good_reads:book  https://www.goodreads.com/author/show/15872.Ri...  2009  /genres/fantasy|/genres/fantasy|/genres/mythol...  dir29/4837112-percy-jackson-and-the-sword-of-h...          7449  Percy Jackson and the Sword of Hades (Percy Ja...  fantasy|fantasy|mythology|young-adult|adventur...\n",
       "4730    4.56           622  1423119509  good_reads:book  https://www.goodreads.com/author/show/15872.Ri...  2009  /genres/fantasy|/genres/young-adult|/genres/fa...  dir48/6443349-percy-jackson-and-the-olympians-...         13793  Percy Jackson and the Olympians Boxed Set (Per...  fantasy|young-adult|fantasy|mythology|fiction|...\n",
       "4854    3.93           110  0979233143  good_reads:book  https://www.goodreads.com/author/show/15872.Ri...  2008  /genres/fantasy|/genres/mythology|/genres/fant...           dir49/3303559-demigods-and-monsters.html          2154                              Demigods and Monsters  fantasy|mythology|fantasy|young-adult|mytholog...\n",
       "5824    4.35           914  1423194551  good_reads:book  https://www.goodreads.com/author/show/15872.Ri...  2013  /genres/fantasy|/genres/fantasy|/genres/mythol...               dir59/17312201-the-son-of-sobek.html          9971  The Son of Sobek (Percy Jackson & Kane Chronic...  fantasy|fantasy|mythology|young-adult|short-st..."
      ]
     },
     "execution_count": 71,
     "metadata": {},
     "output_type": "execute_result"
    }
   ],
   "source": [
    "df[df.author == \"Rick_Riordan\"]"
   ]
  },
  {
   "cell_type": "markdown",
   "metadata": {},
   "source": [
    "## Part 4: EDA \n",
    "Before proceeding any further, get to know the dataset using a few \"global property\" visualizations, illustrating histograms with both linear and log scales. Do you find anything interesting or strange? \n",
    "\n",
    "\n",
    "[10 minutes]\n",
    "\n",
    "---"
   ]
  },
  {
   "cell_type": "code",
   "execution_count": 72,
   "metadata": {},
   "outputs": [
    {
     "data": {
      "image/png": "[encoded data removed]",
      "text/plain": [
       "<matplotlib.figure.Figure at 0x117652898>"
      ]
     },
     "metadata": {},
     "output_type": "display_data"
    }
   ],
   "source": [
    "#Generate histograms using the format df.YOUR_CHOICE_OF_COLUMN_NAME.hist(bins=YOUR_CHOICE_OF_BIN_SIZE)\n",
    "\n",
    "df.review_count.hist(bins=200)\n",
    "plt.xlabel('Number of reviews')\n",
    "plt.ylabel('Frequency')\n",
    "plt.title('Number of reviews');\n",
    "\n",
    "plt.show();"
   ]
  },
  {
   "cell_type": "code",
   "execution_count": 73,
   "metadata": {},
   "outputs": [
    {
     "data": {
      "image/png": "[encoded data removed]",
      "text/plain": [
       "<matplotlib.figure.Figure at 0x117642748>"
      ]
     },
     "metadata": {},
     "output_type": "display_data"
    }
   ],
   "source": [
    "# log scale\n",
    "plt.hist(df.year, log=True, bins=100);\n",
    "plt.xlabel('Year written')\n",
    "plt.ylabel('log(frequency)')\n",
    "plt.title('Number of books in a year')\n",
    "\n",
    "plt.show();"
   ]
  },
  {
   "cell_type": "markdown",
   "metadata": {},
   "source": [
    "\n",
    "## Part 5:  Determining the Best Books \n",
    "\n",
    "This is an example of an analysis of the \"grouped property\" type.\n",
    "\n",
    "Think of some reasonable definitions of what it could mean to be a \"best book.\" (After all, these are all the best books according to Goodreads)\n",
    "\n",
    "[5 minutes] \n",
    "\n",
    "---"
   ]
  },
  {
   "cell_type": "markdown",
   "metadata": {},
   "source": [
    "## Part 6:  Trends in Popularity of Genres \n",
    "\n",
    "This is an example of an analysis of the \"grouped property\" type.\n",
    "\n",
    "There are a lot of questions you could ask about genres.\n",
    "* Which genre is currently the most popular?\n",
    "* Better, based on our data, what draw conclusions can you draw about the time evolution of the popularity of each genre?\n",
    "\n",
    "[15 minutes]\n",
    "\n",
    "---"
   ]
  },
  {
   "cell_type": "markdown",
   "metadata": {},
   "source": [
    "### Part 6.1: What can you conclude from the above visualizations?\n",
    "Pick two or three genres and describe how the popularity of these genres fluctuates with time.  "
   ]
  },
  {
   "cell_type": "code",
   "execution_count": null,
   "metadata": {
    "collapsed": true
   },
   "outputs": [],
   "source": []
  }
 ],
 "metadata": {
  "anaconda-cloud": {},
  "kernelspec": {
   "display_name": "Python 3",
   "language": "python",
   "name": "python3"
  },
  "language_info": {
   "codemirror_mode": {
    "name": "ipython",
    "version": 3
   },
   "file_extension": ".py",
   "mimetype": "text/x-python",
   "name": "python",
   "nbconvert_exporter": "python",
   "pygments_lexer": "ipython3",
   "version": "3.6.2"
  }
 },
 "nbformat": 4,
 "nbformat_minor": 1
}
